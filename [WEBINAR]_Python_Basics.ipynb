{
  "nbformat": 4,
  "nbformat_minor": 0,
  "metadata": {
    "kernelspec": {
      "display_name": "Python 3",
      "language": "python",
      "name": "python3"
    },
    "language_info": {
      "codemirror_mode": {
        "name": "ipython",
        "version": 3
      },
      "file_extension": ".py",
      "mimetype": "text/x-python",
      "name": "python",
      "nbconvert_exporter": "python",
      "pygments_lexer": "ipython3",
      "version": "3.7.4"
    },
    "colab": {
      "name": "[WEBINAR] Python Basics.ipynb",
      "provenance": [],
      "collapsed_sections": [],
      "include_colab_link": true
    }
  },
  "cells": [
    {
      "cell_type": "markdown",
      "metadata": {
        "id": "view-in-github",
        "colab_type": "text"
      },
      "source": [
        "<a href=\"https://colab.research.google.com/github/Juanmaibanez/core/blob/master/%5BWEBINAR%5D_Python_Basics.ipynb\" target=\"_parent\"><img src=\"https://colab.research.google.com/assets/colab-badge.svg\" alt=\"Open In Colab\"/></a>"
      ]
    },
    {
      "cell_type": "markdown",
      "metadata": {
        "id": "IXLuSNpQm77P"
      },
      "source": [
        "# Python Introduction\n",
        "### Objects, variables and types\n",
        "<br>\n",
        "Everything in python can be called an object, and it has an identity, a type/class and a value.\n",
        "<br><br>\n",
        "The identity is the name you give the object, the variable name. Each object will also have a type and a value attached to it, even if that value is 0, or None, or empty.\n",
        "<br><br>\n",
        "**The types in Python we will cover in the webinar**\n",
        "<br>\n",
        "<br>\n",
        "- strings (text wrapped in quotes - can be single quotes or double quotes, it is your choice as long as there is no apostrophe or quotes within the text, in which case you would have to use double quotes);\n",
        "<br>\n",
        "- integers (whole numbers);\n",
        "<br>\n",
        "- floats (numbers with decimal point);\n",
        "<br>\n",
        "- lists (represented by []);\n",
        "<br>\n",
        "- dictionaries (represented by {}, carries a key and a value separated by : )\n",
        "<br><br><br>\n",
        "\n"
      ]
    },
    {
      "cell_type": "code",
      "metadata": {
        "id": "M-4WI7xEjPVy",
        "colab": {
          "base_uri": "https://localhost:8080/"
        },
        "outputId": "8ab6c97a-93be-4941-8229-c834d37c773a"
      },
      "source": [
        "my_first_variable = ' Hello World! '\n",
        "\n",
        "print(my_first_variable)"
      ],
      "execution_count": null,
      "outputs": [
        {
          "output_type": "stream",
          "text": [
            " Hello World! \n"
          ],
          "name": "stdout"
        }
      ]
    },
    {
      "cell_type": "code",
      "metadata": {
        "colab": {
          "base_uri": "https://localhost:8080/"
        },
        "id": "dUYrforr06Uo",
        "outputId": "aa4a7823-95dc-46f0-ef5e-8149d13e9eb4"
      },
      "source": [
        "my_second_variable = 'Hello World!'\n",
        "\n",
        "my_first_variable.strip() == my_second_variable"
      ],
      "execution_count": null,
      "outputs": [
        {
          "output_type": "execute_result",
          "data": {
            "text/plain": [
              "True"
            ]
          },
          "metadata": {
            "tags": []
          },
          "execution_count": 17
        }
      ]
    },
    {
      "cell_type": "code",
      "metadata": {
        "colab": {
          "base_uri": "https://localhost:8080/"
        },
        "id": "BtWU308m1d3s",
        "outputId": "84b70d01-69f8-4222-a8ef-f957a3971b24"
      },
      "source": [
        "print(my_first_variable.strip())"
      ],
      "execution_count": null,
      "outputs": [
        {
          "output_type": "stream",
          "text": [
            "Hello World!\n"
          ],
          "name": "stdout"
        }
      ]
    },
    {
      "cell_type": "code",
      "metadata": {
        "colab": {
          "base_uri": "https://localhost:8080/",
          "height": 132
        },
        "id": "R1xmNtov1nYv",
        "outputId": "9405cdb8-7e56-454e-b1d1-bd1e58208f5f"
      },
      "source": [
        "'!Hello World!'.strip('!')"
      ],
      "execution_count": null,
      "outputs": [
        {
          "output_type": "error",
          "ename": "SyntaxError",
          "evalue": "ignored",
          "traceback": [
            "\u001b[0;36m  File \u001b[0;32m\"<ipython-input-21-79c2caa95b3d>\"\u001b[0;36m, line \u001b[0;32m1\u001b[0m\n\u001b[0;31m    10.strip()\u001b[0m\n\u001b[0m           ^\u001b[0m\n\u001b[0;31mSyntaxError\u001b[0m\u001b[0;31m:\u001b[0m invalid syntax\n"
          ]
        }
      ]
    },
    {
      "cell_type": "markdown",
      "metadata": {
        "id": "lnqEt0LtB7yr"
      },
      "source": [
        "![alt text](http://www.leonelmoura.com/wp-content/uploads/2019/01/hello_2013-1024x614.jpg)"
      ]
    },
    {
      "cell_type": "code",
      "metadata": {
        "id": "MhGQDS6lB7yd",
        "colab": {
          "base_uri": "https://localhost:8080/"
        },
        "outputId": "b445dc50-b556-4683-d2cf-b106c7d5527c"
      },
      "source": [
        "a = 10\n",
        "b = 2.5\n",
        "\n",
        "# In this case, 'a' and 'b' are the names, better known as the variables.\n",
        "# '10' and '2.5' are the values, and their types/classes are integer and float (respectively).\n",
        "\n",
        "print(a, type(a))\n",
        "print(b, type(b))\n",
        "print(my_first_variable, type(my_first_variable))"
      ],
      "execution_count": null,
      "outputs": [
        {
          "output_type": "stream",
          "text": [
            "10 <class 'int'>\n",
            "2.5 <class 'float'>\n",
            " Hello World!  <class 'str'>\n"
          ],
          "name": "stdout"
        }
      ]
    },
    {
      "cell_type": "code",
      "metadata": {
        "id": "3R82UQV6B7yt",
        "colab": {
          "base_uri": "https://localhost:8080/"
        },
        "outputId": "ceb466f3-eb58-43ad-a775-6768075ea651"
      },
      "source": [
        "# Basic calculations\n",
        "print(a+b)\n",
        "print(a-b)\n",
        "print(a/b)\n",
        "print(a*b)\n",
        "print(2**4)\n",
        "print(5%2)"
      ],
      "execution_count": null,
      "outputs": [
        {
          "output_type": "stream",
          "text": [
            "12.5\n",
            "7.5\n",
            "4.0\n",
            "25.0\n",
            "16\n",
            "1\n"
          ],
          "name": "stdout"
        }
      ]
    },
    {
      "cell_type": "code",
      "metadata": {
        "id": "sdwzNZc0B7y5",
        "colab": {
          "base_uri": "https://localhost:8080/"
        },
        "outputId": "47226555-3276-4fd3-844f-65e49fbd1fc8"
      },
      "source": [
        "print(a*my_first_variable)"
      ],
      "execution_count": null,
      "outputs": [
        {
          "output_type": "stream",
          "text": [
            "Hello World!Hello World!Hello World!Hello World!Hello World!Hello World!Hello World!Hello World!Hello World!Hello World!\n"
          ],
          "name": "stdout"
        }
      ]
    },
    {
      "cell_type": "code",
      "metadata": {
        "id": "kuqM9YfkB7zE",
        "colab": {
          "base_uri": "https://localhost:8080/",
          "height": 184
        },
        "outputId": "7a14614c-58dc-4e08-acef-15eb7f871659"
      },
      "source": [
        "# TypeError\n",
        "print(b+my_first_variable)"
      ],
      "execution_count": null,
      "outputs": [
        {
          "output_type": "error",
          "ename": "TypeError",
          "evalue": "ignored",
          "traceback": [
            "\u001b[0;31m---------------------------------------------------------------------------\u001b[0m",
            "\u001b[0;31mTypeError\u001b[0m                                 Traceback (most recent call last)",
            "\u001b[0;32m<ipython-input-5-7ea765263c95>\u001b[0m in \u001b[0;36m<module>\u001b[0;34m()\u001b[0m\n\u001b[1;32m      1\u001b[0m \u001b[0;31m# TypeError\u001b[0m\u001b[0;34m\u001b[0m\u001b[0;34m\u001b[0m\u001b[0;34m\u001b[0m\u001b[0m\n\u001b[0;32m----> 2\u001b[0;31m \u001b[0mprint\u001b[0m\u001b[0;34m(\u001b[0m\u001b[0mb\u001b[0m\u001b[0;34m+\u001b[0m\u001b[0mmy_first_variable\u001b[0m\u001b[0;34m)\u001b[0m\u001b[0;34m\u001b[0m\u001b[0;34m\u001b[0m\u001b[0m\n\u001b[0m",
            "\u001b[0;31mTypeError\u001b[0m: unsupported operand type(s) for +: 'float' and 'str'"
          ]
        }
      ]
    },
    {
      "cell_type": "markdown",
      "metadata": {
        "id": "i5EHf73DB7zL"
      },
      "source": [
        "![](https://media.giphy.com/media/Cebv198beoB4Q/giphy.gif)"
      ]
    },
    {
      "cell_type": "code",
      "metadata": {
        "id": "ob_hLT_RB7zO",
        "colab": {
          "base_uri": "https://localhost:8080/"
        },
        "outputId": "4ae98e91-4d41-4e97-e4af-833394c6a3c4"
      },
      "source": [
        "# NameError\n",
        "\n",
        "print(d)"
      ],
      "execution_count": null,
      "outputs": [
        {
          "output_type": "stream",
          "text": [
            "another string\n"
          ],
          "name": "stdout"
        }
      ]
    },
    {
      "cell_type": "code",
      "metadata": {
        "id": "WMNrQldDB7zY",
        "colab": {
          "base_uri": "https://localhost:8080/"
        },
        "outputId": "db07210f-03c9-4e10-82fc-c10dd27e419c"
      },
      "source": [
        "# SyntaxError\n",
        "print(a+b)\n",
        "\n",
        "# print() is a function, and most funtions will need a parameter to be passed inside the parentheses.\n",
        "# a parameter is the object that the function will use as input to compute and provide an output."
      ],
      "execution_count": null,
      "outputs": [
        {
          "output_type": "stream",
          "text": [
            "12.5\n"
          ],
          "name": "stdout"
        }
      ]
    },
    {
      "cell_type": "code",
      "metadata": {
        "colab": {
          "base_uri": "https://localhost:8080/"
        },
        "id": "1rlnLyG03iWm",
        "outputId": "cb3d2927-0f83-4938-f067-1ef41907607d"
      },
      "source": [
        "print(d)"
      ],
      "execution_count": null,
      "outputs": [
        {
          "output_type": "stream",
          "text": [
            "another string\n"
          ],
          "name": "stdout"
        }
      ]
    },
    {
      "cell_type": "markdown",
      "metadata": {
        "id": "lXshyz8oB7zh"
      },
      "source": [
        "![](https://media3.giphy.com/media/115GePH0Iri8QE/giphy.gif?cid=ecf05e473fdb6c76cbcd85c260e063e764991adcf07e366c&rid=giphy.gif)"
      ]
    },
    {
      "cell_type": "markdown",
      "metadata": {
        "id": "5c9ui50sB7zk"
      },
      "source": [
        "## Groceries with Python"
      ]
    },
    {
      "cell_type": "markdown",
      "metadata": {
        "id": "6-Zk2EzdB7zm"
      },
      "source": [
        "![alt text](https://s3.observador.pt/wp-content/uploads/2015/08/14154021/14032020filipeamorim5585.jpg)"
      ]
    },
    {
      "cell_type": "code",
      "metadata": {
        "id": "9zPp8OLpB7zn"
      },
      "source": [
        "grocery_list = ['coffee', 'milk', 'cereal', 'bread', 'eggs', 'cheese',\n",
        "                'ham', 'canned tuna', 'frozen vegetables', 'chocolate', 'beer']\n",
        "\n",
        "new_items = ['chicken', 'mushrooms', 'cream', 'spices', 'banana', 'wine']"
      ],
      "execution_count": null,
      "outputs": []
    },
    {
      "cell_type": "code",
      "metadata": {
        "id": "Z2lDsbDoB7zu",
        "colab": {
          "base_uri": "https://localhost:8080/"
        },
        "outputId": "af8ca93c-e7d3-4d52-a283-b9f217d0efb6"
      },
      "source": [
        "new_grocery_list = grocery_list + new_items\n",
        "\n",
        "print(new_grocery_list)"
      ],
      "execution_count": null,
      "outputs": [
        {
          "output_type": "stream",
          "text": [
            "['coffee', 'milk', 'cereal', 'bread', 'eggs', 'cheese', 'ham', 'canned tuna', 'frozen vegetables', 'chocolate', 'beer', 'chicken', 'mushrooms', 'cream', 'spices', 'banana', 'wine', 'chicken', 'mushrooms', 'cream', 'spices', 'banana', 'wine', 'chicken', 'mushrooms', 'cream', 'spices', 'banana', 'wine', 'chicken', 'mushrooms', 'cream', 'spices', 'banana', 'wine', 'chicken', 'mushrooms', 'cream', 'spices', 'banana', 'wine', 'chicken', 'mushrooms', 'cream', 'spices', 'banana', 'wine']\n"
          ],
          "name": "stdout"
        }
      ]
    },
    {
      "cell_type": "code",
      "metadata": {
        "colab": {
          "base_uri": "https://localhost:8080/"
        },
        "id": "LzXuv0Se40DK",
        "outputId": "2014586c-c3c1-44f3-d9c7-c18f3d6ddd81"
      },
      "source": [
        "grocery_list.extend(new_items)\n",
        "print(grocery_list)"
      ],
      "execution_count": null,
      "outputs": [
        {
          "output_type": "stream",
          "text": [
            "['coffee', 'milk', 'cereal', 'bread', 'eggs', 'cheese', 'ham', 'canned tuna', 'frozen vegetables', 'chocolate', 'beer', 'chicken', 'mushrooms', 'cream', 'spices', 'banana', 'wine', 'chicken', 'mushrooms', 'cream', 'spices', 'banana', 'wine', 'chicken', 'mushrooms', 'cream', 'spices', 'banana', 'wine', 'chicken', 'mushrooms', 'cream', 'spices', 'banana', 'wine', 'chicken', 'mushrooms', 'cream', 'spices', 'banana', 'wine']\n"
          ],
          "name": "stdout"
        }
      ]
    },
    {
      "cell_type": "code",
      "metadata": {
        "id": "tnXIFZWaB7z0",
        "colab": {
          "base_uri": "https://localhost:8080/"
        },
        "outputId": "d43c6092-1004-408d-b882-91094e57370c"
      },
      "source": [
        "sorted_list = sorted(new_grocery_list)\n",
        "total_items = len(new_grocery_list)\n",
        "\n",
        "# sorted() is a function that sorts the object passed in as parameter. In this case, the object passed inside the parameter is the list 'new_grocery_list', so it sorts the objects inside it.\n",
        "# In this case the objects inside the list are strings, sorting them alphabetically, but it could be integers or floats, where it would sort numerically.\n",
        "\n",
        "# len() is a function that counts how many objects are directly inside the object passed in as parameter.\n",
        "# In this case, the parameter is the list 'new_grocery_list', so it counts the total number of strings inside the list.\n",
        "\n",
        "\n",
        "# print('You are buying', total_items, 'items:', sorted_list)\n",
        "print(f'You are buying {total_items} items: {sorted_list}')"
      ],
      "execution_count": null,
      "outputs": [
        {
          "output_type": "stream",
          "text": [
            "You are buying 47 items: ['banana', 'banana', 'banana', 'banana', 'banana', 'banana', 'beer', 'bread', 'canned tuna', 'cereal', 'cheese', 'chicken', 'chicken', 'chicken', 'chicken', 'chicken', 'chicken', 'chocolate', 'coffee', 'cream', 'cream', 'cream', 'cream', 'cream', 'cream', 'eggs', 'frozen vegetables', 'ham', 'milk', 'mushrooms', 'mushrooms', 'mushrooms', 'mushrooms', 'mushrooms', 'mushrooms', 'spices', 'spices', 'spices', 'spices', 'spices', 'spices', 'wine', 'wine', 'wine', 'wine', 'wine', 'wine']\n"
          ],
          "name": "stdout"
        }
      ]
    },
    {
      "cell_type": "code",
      "metadata": {
        "id": "ssfMrIFrB7z7",
        "colab": {
          "base_uri": "https://localhost:8080/"
        },
        "outputId": "a1c4efdf-c14a-4384-f89c-4c18bd8d3d3c"
      },
      "source": [
        "print(new_grocery_list)"
      ],
      "execution_count": null,
      "outputs": [
        {
          "output_type": "stream",
          "text": [
            "['coffee', 'milk', 'cereal', 'bread', 'eggs', 'cheese', 'ham', 'canned tuna', 'frozen vegetables', 'chocolate', 'beer', 'chicken', 'mushrooms', 'cream', 'spices', 'banana', 'wine']\n"
          ],
          "name": "stdout"
        }
      ]
    },
    {
      "cell_type": "code",
      "metadata": {
        "id": "HuwG_1L_B70C",
        "colab": {
          "base_uri": "https://localhost:8080/"
        },
        "outputId": "b45796bd-6747-4e4d-9e44-27bf3d06b82c"
      },
      "source": [
        "print(grocery_list)"
      ],
      "execution_count": null,
      "outputs": [
        {
          "output_type": "stream",
          "text": [
            "['coffee', 'milk', 'cereal', 'bread', 'eggs', 'cheese', 'ham', 'canned tuna', 'frozen vegetables', 'chocolate', 'beer']\n"
          ],
          "name": "stdout"
        }
      ]
    },
    {
      "cell_type": "code",
      "metadata": {
        "id": "cL-IzJZsB70J",
        "colab": {
          "base_uri": "https://localhost:8080/"
        },
        "outputId": "e86b6de6-05ca-4922-bc1c-de313c80fe96"
      },
      "source": [
        "print(new_items)"
      ],
      "execution_count": null,
      "outputs": [
        {
          "output_type": "stream",
          "text": [
            "['chicken', 'mushrooms', 'cream', 'spices', 'banana', 'wine']\n"
          ],
          "name": "stdout"
        }
      ]
    },
    {
      "cell_type": "code",
      "metadata": {
        "id": "3RSsIN4NB70U",
        "colab": {
          "base_uri": "https://localhost:8080/"
        },
        "outputId": "254f76a4-2853-4453-a4ff-525411514163"
      },
      "source": [
        "# You can iterate through python objects using for loops and while loops.\n",
        "\n",
        "#for i in grocery_list:\n",
        " #   print('standard item:', i.upper())\n",
        "\n",
        "c = 0\n",
        "\n",
        "for item in new_items:\n",
        "    c = c + 1\n",
        "    print(f'{c}- other item: {item.capitalize()}')\n",
        "\n",
        "print('Finished.')\n",
        "  \n",
        "# You can use .lower() to make all lowercase"
      ],
      "execution_count": null,
      "outputs": [
        {
          "output_type": "stream",
          "text": [
            "1- other item: Chicken\n",
            "2- other item: Mushrooms\n",
            "3- other item: Cream\n",
            "4- other item: Spices\n",
            "5- other item: Banana\n",
            "6- other item: Wine\n",
            "Finished.\n"
          ],
          "name": "stdout"
        }
      ]
    },
    {
      "cell_type": "code",
      "metadata": {
        "colab": {
          "base_uri": "https://localhost:8080/"
        },
        "id": "jSMy75RH9ty5",
        "outputId": "1918b789-36af-4644-bddf-d68769fa3f92"
      },
      "source": [
        "for i in [0, 1, 2, 3, 4, 5]:\n",
        "    print(f'selected item: {new_items[i].capitalize()}, {new_items[i-1].capitalize()}')"
      ],
      "execution_count": null,
      "outputs": [
        {
          "output_type": "stream",
          "text": [
            "selected item: Chicken, Wine\n",
            "selected item: Mushrooms, Chicken\n",
            "selected item: Cream, Mushrooms\n",
            "selected item: Spices, Cream\n",
            "selected item: Banana, Spices\n",
            "selected item: Wine, Banana\n"
          ],
          "name": "stdout"
        }
      ]
    },
    {
      "cell_type": "code",
      "metadata": {
        "colab": {
          "base_uri": "https://localhost:8080/"
        },
        "id": "gYaoPqN4-aUu",
        "outputId": "108c666c-80b2-4640-e51d-bfa8baefb78c"
      },
      "source": [
        "len(new_items)"
      ],
      "execution_count": null,
      "outputs": [
        {
          "output_type": "execute_result",
          "data": {
            "text/plain": [
              "6"
            ]
          },
          "metadata": {
            "tags": []
          },
          "execution_count": 61
        }
      ]
    },
    {
      "cell_type": "code",
      "metadata": {
        "colab": {
          "base_uri": "https://localhost:8080/"
        },
        "id": "DEY5HVdQ-TjM",
        "outputId": "5bfdcd6f-a9ca-4808-ef7d-a30c7e612bef"
      },
      "source": [
        "list(range(6))"
      ],
      "execution_count": null,
      "outputs": [
        {
          "output_type": "execute_result",
          "data": {
            "text/plain": [
              "[0, 1, 2, 3, 4, 5]"
            ]
          },
          "metadata": {
            "tags": []
          },
          "execution_count": 62
        }
      ]
    },
    {
      "cell_type": "code",
      "metadata": {
        "id": "ubDO7AJJYhea",
        "colab": {
          "base_uri": "https://localhost:8080/"
        },
        "outputId": "72095087-c88b-4f16-dfa2-91713a482d99"
      },
      "source": [
        "print(grocery_list)"
      ],
      "execution_count": null,
      "outputs": [
        {
          "output_type": "stream",
          "text": [
            "['coffee', 'milk', 'cereal', 'bread', 'eggs', 'cheese', 'ham', 'canned tuna', 'frozen vegetables', 'chocolate', 'beer', 'chicken', 'mushrooms', 'cream', 'spices', 'banana', 'wine', 'chicken', 'mushrooms', 'cream', 'spices', 'banana', 'wine', 'chicken', 'mushrooms', 'cream', 'spices', 'banana', 'wine', 'chicken', 'mushrooms', 'cream', 'spices', 'banana', 'wine', 'chicken', 'mushrooms', 'cream', 'spices', 'banana', 'wine', 'chicken', 'mushrooms', 'cream', 'spices', 'banana', 'wine']\n"
          ],
          "name": "stdout"
        }
      ]
    },
    {
      "cell_type": "code",
      "metadata": {
        "id": "azDAVeysB70e"
      },
      "source": [
        "# Adding items to list using Append:\n",
        "\n",
        "for item in new_items:\n",
        "    grocery_list.append(item)\n",
        "    \n",
        "# Extra knowledge:\n",
        "# Note that .append() comes after the grocery_list object (differently than the functions we have seen so far).\n",
        "# That is because append is a method (a sort of 'function' that only works for a specific class/type).\n",
        "# In this case, append is a method of the class 'list', therefore it will only work for lists."
      ],
      "execution_count": null,
      "outputs": []
    },
    {
      "cell_type": "code",
      "metadata": {
        "id": "YdFFYCz2B70m",
        "colab": {
          "base_uri": "https://localhost:8080/"
        },
        "outputId": "177e1be5-1c96-49f1-88c4-cc4ce184899f"
      },
      "source": [
        "# Another note is that .append() works 'inplace', which means it changes the object itself instead of creating another.\n",
        "# So, you don't need to assign it to a variable.\n",
        "\n",
        "print(grocery_list)"
      ],
      "execution_count": null,
      "outputs": [
        {
          "output_type": "stream",
          "text": [
            "['coffee', 'milk', 'cereal', 'bread', 'eggs', 'cheese', 'ham', 'canned tuna', 'frozen vegetables', 'chocolate', 'beer', 'chicken', 'mushrooms', 'cream', 'spices', 'banana', 'wine', 'chicken', 'mushrooms', 'cream', 'spices', 'banana', 'wine', 'chicken', 'mushrooms', 'cream', 'spices', 'banana', 'wine', 'chicken', 'mushrooms', 'cream', 'spices', 'banana', 'wine', 'chicken', 'mushrooms', 'cream', 'spices', 'banana', 'wine', 'chicken', 'mushrooms', 'cream', 'spices', 'banana', 'wine']\n"
          ],
          "name": "stdout"
        }
      ]
    },
    {
      "cell_type": "code",
      "metadata": {
        "id": "sDwPDBw6B70s",
        "colab": {
          "base_uri": "https://localhost:8080/"
        },
        "outputId": "f318ad4c-6205-4e15-a412-8345ddee5e2e"
      },
      "source": [
        "new_grocery_list = []\n",
        "\n",
        "for item in grocery_list:\n",
        "    print(item, new_grocery_list)\n",
        "    new_grocery_list.append(item)\n",
        "    \n",
        "#for item in new_items:\n",
        "#    new_grocery_list.append(item)\n",
        "    \n",
        "print(new_grocery_list)"
      ],
      "execution_count": null,
      "outputs": [
        {
          "output_type": "stream",
          "text": [
            "coffee []\n",
            "milk ['coffee']\n",
            "cereal ['coffee', 'milk']\n",
            "bread ['coffee', 'milk', 'cereal']\n",
            "eggs ['coffee', 'milk', 'cereal', 'bread']\n",
            "cheese ['coffee', 'milk', 'cereal', 'bread', 'eggs']\n",
            "ham ['coffee', 'milk', 'cereal', 'bread', 'eggs', 'cheese']\n",
            "canned tuna ['coffee', 'milk', 'cereal', 'bread', 'eggs', 'cheese', 'ham']\n",
            "frozen vegetables ['coffee', 'milk', 'cereal', 'bread', 'eggs', 'cheese', 'ham', 'canned tuna']\n",
            "chocolate ['coffee', 'milk', 'cereal', 'bread', 'eggs', 'cheese', 'ham', 'canned tuna', 'frozen vegetables']\n",
            "beer ['coffee', 'milk', 'cereal', 'bread', 'eggs', 'cheese', 'ham', 'canned tuna', 'frozen vegetables', 'chocolate']\n",
            "['coffee', 'milk', 'cereal', 'bread', 'eggs', 'cheese', 'ham', 'canned tuna', 'frozen vegetables', 'chocolate', 'beer']\n"
          ],
          "name": "stdout"
        }
      ]
    },
    {
      "cell_type": "code",
      "metadata": {
        "id": "et0hP1WLB702",
        "colab": {
          "base_uri": "https://localhost:8080/"
        },
        "outputId": "b8bbdb2b-e3f5-4586-a701-e2701acac7e0"
      },
      "source": [
        "# Not all python objects are iterable, but strings also are:\n",
        "ie_object = 'abc'\n",
        "\n",
        "for i in ie_object:\n",
        "    print(i)"
      ],
      "execution_count": null,
      "outputs": [
        {
          "output_type": "stream",
          "text": [
            "a\n",
            "b\n",
            "c\n"
          ],
          "name": "stdout"
        }
      ]
    },
    {
      "cell_type": "code",
      "metadata": {
        "colab": {
          "base_uri": "https://localhost:8080/",
          "height": 35
        },
        "id": "quQW8UJ-BGzo",
        "outputId": "6b96ad5c-1438-4757-aae6-40463b7e3230"
      },
      "source": [
        "ie_object[2]"
      ],
      "execution_count": null,
      "outputs": [
        {
          "output_type": "execute_result",
          "data": {
            "application/vnd.google.colaboratory.intrinsic+json": {
              "type": "string"
            },
            "text/plain": [
              "'c'"
            ]
          },
          "metadata": {
            "tags": []
          },
          "execution_count": 79
        }
      ]
    },
    {
      "cell_type": "code",
      "metadata": {
        "id": "oJmNu5_qB708",
        "colab": {
          "base_uri": "https://localhost:8080/"
        },
        "outputId": "3fb7c0b1-b016-4e9c-b897-14e81c89c13c"
      },
      "source": [
        "# Let's price the items using a dictionary\n",
        "\n",
        "groceries_dict = {'coffee': 3.0, 'milk': 0.75, 'cereal': 2.0, 'bread': 1.3, 'eggs': 0.85, 'brie cheese': 2.5,\n",
        "                  'ham': 2.0, 'canned tuna': 0.85, 'frozen vegetables': 1.0, 'chocolate': 1.2, 'beer': 3.5,\n",
        "                  'chicken': 3.0, 'mushrooms': 0.65, 'cream': 0.55, 'spices': 1.6, 'banana': 0.9, 'wine': 3.8}\n",
        "\n",
        "print(groceries_dict['cream'])"
      ],
      "execution_count": null,
      "outputs": [
        {
          "output_type": "stream",
          "text": [
            "0.55\n"
          ],
          "name": "stdout"
        }
      ]
    },
    {
      "cell_type": "code",
      "metadata": {
        "id": "KdLdZ9mwB71D",
        "colab": {
          "base_uri": "https://localhost:8080/"
        },
        "outputId": "68899675-b0f3-4062-91ca-6e8a9a8cd06d"
      },
      "source": [
        "prices = groceries_dict.values()\n",
        "items = groceries_dict.keys()\n",
        "\n",
        "print('Total price:', sum(prices))\n",
        "print('Total items:', len(items))\n",
        "\n",
        "# Python objects with class/type dict_values and dict_keys behaves as lists, and are iterables."
      ],
      "execution_count": null,
      "outputs": [
        {
          "output_type": "stream",
          "text": [
            "Total price: 29.449999999999996\n",
            "Total items: 17\n"
          ],
          "name": "stdout"
        }
      ]
    },
    {
      "cell_type": "code",
      "metadata": {
        "colab": {
          "base_uri": "https://localhost:8080/"
        },
        "id": "gvT0FUbEB5QM",
        "outputId": "8053e413-d102-4315-87bf-1ded2923cc1a"
      },
      "source": [
        "items"
      ],
      "execution_count": null,
      "outputs": [
        {
          "output_type": "execute_result",
          "data": {
            "text/plain": [
              "dict_keys(['coffee', 'milk', 'cereal', 'bread', 'eggs', 'brie cheese', 'ham', 'canned tuna', 'frozen vegetables', 'chocolate', 'beer', 'chicken', 'mushrooms', 'cream', 'spices', 'banana', 'wine'])"
            ]
          },
          "metadata": {
            "tags": []
          },
          "execution_count": 83
        }
      ]
    },
    {
      "cell_type": "code",
      "metadata": {
        "id": "PuRzP_69B71I",
        "colab": {
          "base_uri": "https://localhost:8080/"
        },
        "outputId": "f41304ed-6b8a-4a1d-ff9c-74ab3fe11c4b"
      },
      "source": [
        "print(groceries_dict.items())\n",
        "# Python objects with class/type dict_items behaves as tuples, and are iterables."
      ],
      "execution_count": null,
      "outputs": [
        {
          "output_type": "stream",
          "text": [
            "dict_items([('coffee', 3.0), ('milk', 0.75), ('cereal', 2.0), ('bread', 1.3), ('eggs', 0.85), ('brie cheese', 2.5), ('ham', 2.0), ('canned tuna', 0.85), ('frozen vegetables', 1.0), ('chocolate', 1.2), ('beer', 3.5), ('chicken', 3.0), ('mushrooms', 0.65), ('cream', 0.55), ('spices', 1.6), ('banana', 0.9), ('wine', 3.8)])\n"
          ],
          "name": "stdout"
        }
      ]
    },
    {
      "cell_type": "code",
      "metadata": {
        "id": "k0u5MAwCB71O",
        "colab": {
          "base_uri": "https://localhost:8080/"
        },
        "outputId": "87951a13-9599-482b-b1cb-4b3d43793272"
      },
      "source": [
        "for key, value in groceries_dict.items():\n",
        "    print(key, value)"
      ],
      "execution_count": null,
      "outputs": [
        {
          "output_type": "stream",
          "text": [
            "coffee 3.0\n",
            "milk 0.75\n",
            "cereal 2.0\n",
            "bread 1.3\n",
            "eggs 0.85\n",
            "brie cheese 2.5\n",
            "ham 2.0\n",
            "canned tuna 0.85\n",
            "frozen vegetables 1.0\n",
            "chocolate 1.2\n",
            "beer 3.5\n",
            "chicken 3.0\n",
            "mushrooms 0.65\n",
            "cream 0.55\n",
            "spices 1.6\n",
            "banana 0.9\n",
            "wine 3.8\n"
          ],
          "name": "stdout"
        }
      ]
    },
    {
      "cell_type": "code",
      "metadata": {
        "colab": {
          "base_uri": "https://localhost:8080/"
        },
        "id": "1aM8f686DE6_",
        "outputId": "27fb68e6-c56f-4363-810f-5eb6bee99ca3"
      },
      "source": [
        "groceries_dict['coffee'] = 3.5\n",
        "\n",
        "groceries_dict"
      ],
      "execution_count": null,
      "outputs": [
        {
          "output_type": "execute_result",
          "data": {
            "text/plain": [
              "{'banana': 0.9,\n",
              " 'beer': 3.5,\n",
              " 'bread': 1.3,\n",
              " 'brie cheese': 2.5,\n",
              " 'canned tuna': 0.85,\n",
              " 'cereal': 2.0,\n",
              " 'chicken': 3.0,\n",
              " 'chocolate': 1.2,\n",
              " 'coffee': 3.5,\n",
              " 'cream': 0.55,\n",
              " 'eggs': 0.85,\n",
              " 'frozen vegetables': 1.0,\n",
              " 'ham': 2.0,\n",
              " 'milk': 0.75,\n",
              " 'mushrooms': 0.65,\n",
              " 'spices': 1.6,\n",
              " 'wine': 3.8}"
            ]
          },
          "metadata": {
            "tags": []
          },
          "execution_count": 88
        }
      ]
    },
    {
      "cell_type": "code",
      "metadata": {
        "colab": {
          "base_uri": "https://localhost:8080/"
        },
        "id": "R3V3jkIqCqXo",
        "outputId": "0be243ef-7394-416c-b46a-5843e1a8ce3d"
      },
      "source": [
        "k, v = 'coffee', 3.0\n",
        "\n",
        "k, v"
      ],
      "execution_count": null,
      "outputs": [
        {
          "output_type": "execute_result",
          "data": {
            "text/plain": [
              "('coffee', 3.0)"
            ]
          },
          "metadata": {
            "tags": []
          },
          "execution_count": 84
        }
      ]
    },
    {
      "cell_type": "code",
      "metadata": {
        "id": "HOdSIs2kB71U",
        "colab": {
          "base_uri": "https://localhost:8080/"
        },
        "outputId": "5e40b763-b984-4d0d-ef36-577d159e0504"
      },
      "source": [
        "# Get items under 3.0, above 3.0 and equal to 3.0, and count them into separate variables:\n",
        "\n",
        "a = 0\n",
        "b = 0\n",
        "c = 0\n",
        "\n",
        "for key, value in groceries_dict.items():\n",
        "    if value > 3.0:\n",
        "        a = a + 1\n",
        "        print('above 3:', value)\n",
        "    elif value == 3.0:\n",
        "        b = b + 1\n",
        "        print('is 3:', value)\n",
        "    else:\n",
        "        c = c + 1\n",
        "        print('under 3:', value)"
      ],
      "execution_count": null,
      "outputs": [
        {
          "output_type": "stream",
          "text": [
            "is 3: 3.0\n",
            "under 3: 0.75\n",
            "under 3: 2.0\n",
            "under 3: 1.3\n",
            "under 3: 0.85\n",
            "under 3: 2.5\n",
            "under 3: 2.0\n",
            "under 3: 0.85\n",
            "under 3: 1.0\n",
            "under 3: 1.2\n",
            "above 3: 3.5\n",
            "is 3: 3.0\n",
            "under 3: 0.65\n",
            "under 3: 0.55\n",
            "under 3: 1.6\n",
            "under 3: 0.9\n",
            "above 3: 3.8\n"
          ],
          "name": "stdout"
        }
      ]
    },
    {
      "cell_type": "code",
      "metadata": {
        "id": "p-a_WpNkJSA6",
        "colab": {
          "base_uri": "https://localhost:8080/"
        },
        "outputId": "bc51ca30-259b-44d3-cc86-841c134f13c3"
      },
      "source": [
        "print('above 3:', a)\n",
        "print('is 3:', b)\n",
        "print('below 3:', c)"
      ],
      "execution_count": null,
      "outputs": [
        {
          "output_type": "stream",
          "text": [
            "above 3: 2\n",
            "is 3: 2\n",
            "below 3: 13\n"
          ],
          "name": "stdout"
        }
      ]
    },
    {
      "cell_type": "markdown",
      "metadata": {
        "id": "gZBispbBB71h"
      },
      "source": [
        "### Final Challenge"
      ]
    },
    {
      "cell_type": "markdown",
      "metadata": {
        "id": "9aaZ7DFsB71i"
      },
      "source": [
        "The supermarket is giving a 0.15¢ discount for items under or equal to 1.0, and 10% discount on items above that. Build a dictionary with the new values and calculate the total amount of discount for each (0.15 discount and 10% discount separately)."
      ]
    },
    {
      "cell_type": "markdown",
      "metadata": {
        "id": "ZvGamiU0B71j"
      },
      "source": [
        "\n",
        "![ChessUrl](https://media1.giphy.com/media/5kFWWtxR0UCHgLaM4O/giphy.gif?cid=ecf05e471a3706f254e742c9287809170134b2a159624c91&rid=giphy.gif)"
      ]
    },
    {
      "cell_type": "code",
      "metadata": {
        "id": "dcHRlOlkB71k",
        "cellView": "both",
        "colab": {
          "base_uri": "https://localhost:8080/"
        },
        "outputId": "aed906af-9eaa-40ea-93f1-4519f86fccee"
      },
      "source": [
        "# Your solution here:\n",
        "new_dict = {}\n",
        "\n",
        "for key, value in groceries_dict.items():\n",
        "    if value <= 1.0:\n",
        "        new_dict[key] = round(value - 0.15, 2) # round() is just rounding\n",
        "    else:\n",
        "        new_dict[key] = round(value * 0.9, 2)\n",
        "\n",
        "new_dict"
      ],
      "execution_count": null,
      "outputs": [
        {
          "output_type": "execute_result",
          "data": {
            "text/plain": [
              "{'banana': 0.75,\n",
              " 'beer': 3.15,\n",
              " 'bread': 1.17,\n",
              " 'brie cheese': 2.25,\n",
              " 'canned tuna': 0.7,\n",
              " 'cereal': 1.8,\n",
              " 'chicken': 2.7,\n",
              " 'chocolate': 1.08,\n",
              " 'coffee': 3.15,\n",
              " 'cream': 0.4,\n",
              " 'eggs': 0.7,\n",
              " 'frozen vegetables': 0.85,\n",
              " 'ham': 1.8,\n",
              " 'milk': 0.6,\n",
              " 'mushrooms': 0.5,\n",
              " 'spices': 1.44,\n",
              " 'wine': 3.42}"
            ]
          },
          "metadata": {
            "tags": []
          },
          "execution_count": 91
        }
      ]
    },
    {
      "cell_type": "markdown",
      "metadata": {
        "id": "KVMx9ItZmims"
      },
      "source": [
        "### Extra knowledge:\n",
        "Other useful Python types/classes:\n",
        "<br>\n",
        "<br>\n",
        "- sets (also represented by {}, but with only keys) - used to get only unique elements;\n",
        "<br>\n",
        "- tuples (represented by ()) - used for security reasons, works similar to lists, but are imutable.\n",
        "<br>"
      ]
    },
    {
      "cell_type": "markdown",
      "metadata": {
        "id": "rRhXe8UXj2Gp"
      },
      "source": [
        "Practice some more at: https://www.codewars.com/\n"
      ]
    },
    {
      "cell_type": "code",
      "metadata": {
        "id": "B0lYHP-umq_K"
      },
      "source": [
        ""
      ],
      "execution_count": null,
      "outputs": []
    }
  ]
}